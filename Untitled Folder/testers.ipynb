{
 "cells": [
  {
   "cell_type": "code",
   "execution_count": null,
   "id": "warming-angel",
   "metadata": {
    "scrolled": false
   },
   "outputs": [],
   "source": [
    "pip install pandas"
   ]
  },
  {
   "cell_type": "code",
   "execution_count": null,
   "id": "independent-refrigerator",
   "metadata": {
    "scrolled": true
   },
   "outputs": [],
   "source": [
    "pip install numpy"
   ]
  },
  {
   "cell_type": "code",
   "execution_count": null,
   "id": "destroyed-venue",
   "metadata": {},
   "outputs": [],
   "source": [
    "import pandas as pd\n",
    "import numpy as np\n",
    "from scipy import stats"
   ]
  },
  {
   "cell_type": "code",
   "execution_count": null,
   "id": "loose-delicious",
   "metadata": {},
   "outputs": [],
   "source": [
    "ls\n"
   ]
  },
  {
   "cell_type": "code",
   "execution_count": null,
   "id": "southern-grammar",
   "metadata": {},
   "outputs": [],
   "source": [
    "cols_list=[\"Name\",\"Population\", \"Square_Kilometres\", \"Population_per_square_kilometre\"]\n",
    "df = pd.read_csv(\"hdb.csv\", usecols=cols_list) \n"
   ]
  },
  {
   "cell_type": "code",
   "execution_count": null,
   "id": "prepared-practice",
   "metadata": {},
   "outputs": [],
   "source": [
    "print(\"Greatest population density is:\", df[\"Population_per_square_kilometre\"].max())\n",
    "print(\"Lowest population density is:\", df[\"Population_per_square_kilometre\"].min())\n",
    "print(\"Highest population is:\", df[\"Population\"].max())\n",
    "print(\"Lowest population is:\", df[\"Population\"].min())\n",
    "print(\"Largest area is is:\", df[\"Square_Kilometres\"].max(), \" sq. km\")\n"
   ]
  },
  {
   "cell_type": "code",
   "execution_count": null,
   "id": "fixed-processing",
   "metadata": {},
   "outputs": [],
   "source": [
    "for row in df[\"Name\"]:\n",
    "    len_row = len(row)\n",
    "    print(len_row)\n",
    "        "
   ]
  },
  {
   "cell_type": "code",
   "execution_count": null,
   "id": "confused-louis",
   "metadata": {
    "scrolled": true
   },
   "outputs": [],
   "source": [
    "mean_len = np.mean(len_row)\n",
    "print(mean_len)"
   ]
  },
  {
   "cell_type": "code",
   "execution_count": null,
   "id": "prescribed-blink",
   "metadata": {},
   "outputs": [],
   "source": [
    "median_len = np.median(len_row)\n",
    "print(median_len)"
   ]
  },
  {
   "cell_type": "code",
   "execution_count": null,
   "id": "municipal-bikini",
   "metadata": {},
   "outputs": [],
   "source": [
    "mode_len = stats.mode(len_row)\n",
    "print(mode_len)"
   ]
  },
  {
   "cell_type": "code",
   "execution_count": null,
   "id": "fiscal-primary",
   "metadata": {},
   "outputs": [],
   "source": []
  }
 ],
 "metadata": {
  "kernelspec": {
   "display_name": "Python 3",
   "language": "python",
   "name": "python3"
  },
  "language_info": {
   "codemirror_mode": {
    "name": "ipython",
    "version": 3
   },
   "file_extension": ".py",
   "mimetype": "text/x-python",
   "name": "python",
   "nbconvert_exporter": "python",
   "pygments_lexer": "ipython3",
   "version": "3.7.3"
  }
 },
 "nbformat": 4,
 "nbformat_minor": 5
}