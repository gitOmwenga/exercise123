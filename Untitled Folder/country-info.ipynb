{
 "cells": [
  {
   "cell_type": "code",
   "execution_count": null,
   "metadata": {},
   "outputs": [],
   "source": [
    "pip install countryinfo"
   ]
  },
  {
   "cell_type": "code",
   "execution_count": null,
   "metadata": {},
   "outputs": [],
   "source": [
    "pip install prettyprinter"
   ]
  },
  {
   "cell_type": "code",
   "execution_count": null,
   "id": "looking-appointment",
   "metadata": {},
   "outputs": [],
   "source": [
    "from countryinfo import CountryInfo\n",
    "from prettyprinter import pprint"
   ]
  },
  {
   "cell_type": "code",
   "execution_count": null,
   "id": "discrete-saver",
   "metadata": {},
   "outputs": [],
   "source": [
    "\n",
    "c_name = str(input('enter contry name'))"
   ]
  },
  {
   "cell_type": "code",
   "execution_count": null,
   "id": "optimum-logic",
   "metadata": {},
   "outputs": [],
   "source": [
    "# capitalize first letter\n",
    "c_name2 = c_name.title()"
   ]
  },
  {
   "cell_type": "code",
   "execution_count": null,
   "id": "interpreted-donna",
   "metadata": {},
   "outputs": [],
   "source": [
    "# checking if correctly spelt\n",
    "try:    \n",
    "    country = CountryInfo(c_name2)\n",
    "    pprint(country.info())\n",
    "except:\n",
    "    print('error')"
   ]
  },
  {
   "cell_type": "code",
   "execution_count": null,
   "id": "opposed-quest",
   "metadata": {},
   "outputs": [],
   "source": [
    "print(\"You asked about:\")\n",
    "print(country.name().capitalize())\n",
    "print(\"Capital city is:\")\n",
    "print(country.capital())\n",
    "print(\"Timezone is:\")\n",
    "print(country.timezones())\n",
    "print(\"Continent is:\")\n",
    "print(country.region())"
   ]
  }
 ],
 "metadata": {
  "kernelspec": {
   "display_name": "Python 3",
   "language": "python",
   "name": "python3"
  },
  "language_info": {
   "codemirror_mode": {
    "name": "ipython",
    "version": 3
   },
   "file_extension": ".py",
   "mimetype": "text/x-python",
   "name": "python",
   "nbconvert_exporter": "python",
   "pygments_lexer": "ipython3",
   "version": "3.7.3-final"
  }
 },
 "nbformat": 4,
 "nbformat_minor": 5
}